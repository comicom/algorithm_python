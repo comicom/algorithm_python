{
  "nbformat": 4,
  "nbformat_minor": 0,
  "metadata": {
    "colab": {
      "name": "stack.ipynb",
      "provenance": [],
      "collapsed_sections": [],
      "authorship_tag": "ABX9TyNvHLCJ6WmBLpEwFnE9Hkmy",
      "include_colab_link": true
    },
    "kernelspec": {
      "name": "python3",
      "display_name": "Python 3"
    },
    "language_info": {
      "name": "python"
    }
  },
  "cells": [
    {
      "cell_type": "markdown",
      "metadata": {
        "id": "view-in-github",
        "colab_type": "text"
      },
      "source": [
        "<a href=\"https://colab.research.google.com/github/comicom/algorithm_python/blob/master/baekjoon/18_stack.ipynb\" target=\"_parent\"><img src=\"https://colab.research.google.com/assets/colab-badge.svg\" alt=\"Open In Colab\"/></a>"
      ]
    },
    {
      "cell_type": "markdown",
      "metadata": {
        "id": "z3-9rtFE2sCA"
      },
      "source": [
        "# 스택\n",
        "\n",
        "num. 10828 ; https://www.acmicpc.net/problem/10828\n",
        "\n",
        "1. 문제\n",
        "\n",
        "정수를 저장하는 스택을 구현한 다음, 입력으로 주어지는 명령을 처리하는 프로그램을 작성하시오.\n",
        "\n",
        "명령은 총 다섯 가지이다.\n",
        "\n",
        "* push X: 정수 X를 스택에 넣는 연산이다.\n",
        "* pop: 스택에서 가장 위에 있는 정수를 빼고, 그 수를 출력한다. 만약 스택에 들어있는 정수가 없는 경우에는 -1을 출력한다.\n",
        "* size: 스택에 들어있는 정수의 개수를 출력한다.\n",
        "* empty: 스택이 비어있으면 1, 아니면 0을 출력한다.\n",
        "* top: 스택의 가장 위에 있는 정수를 출력한다. 만약 스택에 들어있는 정수가 없는 경우에는 -1을 출력한다.\n",
        "\n",
        "2. 입력\n",
        "\n",
        "첫째 줄에 주어지는 명령의 수 N (1 ≤ N ≤ 10,000)이 주어진다. 둘째 줄부터 N개의 줄에는 명령이 하나씩 주어진다. 주어지는 정수는 1보다 크거나 같고, 100,000보다 작거나 같다. 문제에 나와있지 않은 명령이 주어지는 경우는 없다.\n",
        "\n",
        "3. 출력\n",
        "\n",
        "출력해야하는 명령이 주어질 때마다, 한 줄에 하나씩 출력한다.\n",
        "\n"
      ]
    },
    {
      "cell_type": "code",
      "metadata": {
        "colab": {
          "base_uri": "https://localhost:8080/"
        },
        "id": "FsoIDsFW2iTY",
        "outputId": "d1b79603-4fc7-46ef-8975-a352cb33a868"
      },
      "source": [
        "import sys \n",
        "\n",
        "num = int(sys.stdin.readline().rstrip())\n",
        "\n",
        "stack = []\n",
        "for _ in range(num):\n",
        "    dummy = sys.stdin.readline().rstrip().split(' ')\n",
        "    if dummy[0] == \"push\":\n",
        "        stack.append(dummy[1])\n",
        "    elif dummy[0] == \"pop\":\n",
        "        if len(stack)==0:\n",
        "            print(-1)\n",
        "        else:\n",
        "            print(stack.pop())\n",
        "    elif dummy[0] == \"size\":\n",
        "        print(len(stack))\n",
        "    elif dummy[0] == \"empty\":\n",
        "        if len(stack)==0:\n",
        "            print(1)\n",
        "        else:\n",
        "            print(0)\n",
        "    elif dummy[0] == \"top\":\n",
        "        if len(stack)==0:\n",
        "            print(-1)\n",
        "        else:\n",
        "            print(stack[-1])\n",
        "    else:\n",
        "        raise Exception(\"Commend Error\")"
      ],
      "execution_count": 8,
      "outputs": [
        {
          "output_type": "stream",
          "name": "stdout",
          "text": [
            "14\n",
            "push 1\n",
            "push 2\n",
            "top\n",
            "2\n",
            "size\n",
            "2\n",
            "empty\n",
            "0\n",
            "pop\n",
            "2\n",
            "pop\n",
            "1\n",
            "pop\n",
            "-1\n",
            "size\n",
            "0\n",
            "empty\n",
            "1\n",
            "pop\n",
            "-1\n",
            "push 3\n",
            "empty\n",
            "0\n",
            "top\n",
            "3\n"
          ]
        }
      ]
    },
    {
      "cell_type": "code",
      "metadata": {
        "id": "vahVoibB5aQz"
      },
      "source": [
        ""
      ],
      "execution_count": null,
      "outputs": []
    }
  ]
}