{
  "nbformat": 4,
  "nbformat_minor": 0,
  "metadata": {
    "colab": {
      "name": "startup.ipynb",
      "provenance": [],
      "collapsed_sections": [],
      "authorship_tag": "ABX9TyPboXOWncl/mE9bUQXZgrlM",
      "include_colab_link": true
    },
    "kernelspec": {
      "name": "python3",
      "display_name": "Python 3"
    },
    "language_info": {
      "name": "python"
    }
  },
  "cells": [
    {
      "cell_type": "markdown",
      "metadata": {
        "id": "view-in-github",
        "colab_type": "text"
      },
      "source": [
        "<a href=\"https://colab.research.google.com/github/comicom/algorithm_python/blob/master/DFS_BFS/startup.ipynb\" target=\"_parent\"><img src=\"https://colab.research.google.com/assets/colab-badge.svg\" alt=\"Open In Colab\"/></a>"
      ]
    },
    {
      "cell_type": "markdown",
      "metadata": {
        "id": "HQ3KvhgqEDoB"
      },
      "source": [
        "# 꼭 필요한 자료구조 기초"
      ]
    },
    {
      "cell_type": "markdown",
      "metadata": {
        "id": "p18JiH3UdXqq"
      },
      "source": [
        "## stack_example"
      ]
    },
    {
      "cell_type": "code",
      "metadata": {
        "colab": {
          "base_uri": "https://localhost:8080/"
        },
        "id": "JYN8xFW3A96e",
        "outputId": "94137af2-88c4-4867-db14-2108e4735bb3"
      },
      "source": [
        "stack = []\n",
        "\n",
        "stack.append(5)\n",
        "print(stack)\n",
        "stack.append(2)\n",
        "print(stack)\n",
        "stack.append(3)\n",
        "print(stack)\n",
        "stack.append(4)\n",
        "print(stack)\n",
        "\n",
        "stack.pop()\n",
        "print(stack)\n",
        "print(stack[::-1]) # 최상단 원소부터 출력"
      ],
      "execution_count": 1,
      "outputs": [
        {
          "output_type": "stream",
          "text": [
            "[5]\n",
            "[5, 2]\n",
            "[5, 2, 3]\n",
            "[5, 2, 3, 4]\n",
            "[5, 2, 3]\n",
            "[3, 2, 5]\n"
          ],
          "name": "stdout"
        }
      ]
    },
    {
      "cell_type": "markdown",
      "metadata": {
        "id": "fzXKZsAoddaZ"
      },
      "source": [
        "## que_example (deque 사용)"
      ]
    },
    {
      "cell_type": "code",
      "metadata": {
        "colab": {
          "base_uri": "https://localhost:8080/"
        },
        "id": "AxcO1q2keOte",
        "outputId": "887a02a3-1d14-4caa-cbe4-4c7dfc93f010"
      },
      "source": [
        "from collections import deque\n",
        "\n",
        "queue = deque()\n",
        "\n",
        "queue.append(5)\n",
        "print(queue)\n",
        "queue.append(2)\n",
        "print(queue)\n",
        "queue.append(3)\n",
        "print(queue)\n",
        "queue.append(4)\n",
        "print(queue)\n",
        "\n",
        "queue.popleft()\n",
        "print(queue)\n",
        "queue.reverse()  # 역순으로 바꾸기\n",
        "print(queue)"
      ],
      "execution_count": 3,
      "outputs": [
        {
          "output_type": "stream",
          "text": [
            "deque([5])\n",
            "deque([5, 2])\n",
            "deque([5, 2, 3])\n",
            "deque([5, 2, 3, 4])\n",
            "deque([2, 3, 4])\n",
            "deque([4, 3, 2])\n"
          ],
          "name": "stdout"
        }
      ]
    },
    {
      "cell_type": "markdown",
      "metadata": {
        "id": "cJAdDOaEdeot"
      },
      "source": [
        "## recursive_function_example"
      ]
    },
    {
      "cell_type": "markdown",
      "metadata": {
        "id": "bUIZvD-sdf44"
      },
      "source": [
        "## factorial_example"
      ]
    },
    {
      "cell_type": "markdown",
      "metadata": {
        "id": "kUqo19c6B0ao"
      },
      "source": [
        "# 탐색 알고리즘 DFS/BFS\n",
        "\n",
        "DFS는 Depth-First Search, 깊이 우선 탐색이라고도 부르며, 그래프에서 깊은 부분을 우선적으로 탐색하는 알고리즘\n",
        "\n",
        "*   AdjacencyMatrix: 2차원 배열로 그래프의 연결 관계를 표현하는 방식\n",
        "*   AdjacencyList: 리스트로 그래프의 연결 관계를 표현하는 방식\n",
        "\n",
        "\n"
      ]
    },
    {
      "cell_type": "markdown",
      "metadata": {
        "id": "yLwaCFYNe6kj"
      },
      "source": [
        "## AdjacencyMatrix_example\n",
        "\n",
        "메모리 낭비가 발생할 수 있으나, 정보 탐색 시 속도가 AdjacencyList보다 빠르다\n",
        "\n",
        "2차원 배열에 각 노드가 연결된 형태를 기록하는 방식\n",
        "\n",
        "graph 행렬 Mij로 표현된다.\n",
        "\n",
        "Mij와 Mji는 같다.\n",
        "\n",
        "i==j일 때, 같은 노드이기 때문에 cost가 무조건 0이다.\n",
        "\n"
      ]
    },
    {
      "cell_type": "code",
      "metadata": {
        "colab": {
          "base_uri": "https://localhost:8080/"
        },
        "id": "KHXdRJZsF2uU",
        "outputId": "9e65e282-c475-4379-9cc3-7744eeb7e131"
      },
      "source": [
        "DISCONNECTED = -1\n",
        "INF = 999999999\n",
        "\n",
        "graph = [\n",
        "         [0,7,5],\n",
        "         [7,0,INF],\n",
        "         [5,INF,0]\n",
        "]\n",
        "\n",
        "print(graph)"
      ],
      "execution_count": 4,
      "outputs": [
        {
          "output_type": "stream",
          "text": [
            "[[0, 7, 5], [7, 0, 999999999], [5, 999999999, 0]]\n"
          ],
          "name": "stdout"
        }
      ]
    },
    {
      "cell_type": "markdown",
      "metadata": {
        "id": "ynqVsLY5fAG8"
      },
      "source": [
        "## AdjacencyList_example\n",
        "\n",
        "메모리를 효율적으로 사용할 수 있으나, 정보 탐색 시 속도가 AdjacencyMatrix보다 느리다\n",
        "\n",
        "모든 노드에 연결된 노드에 대한 정보를 차례대로 연결하여 저장\n",
        "\n",
        "인접 리스트는 '연결 리스트'라는 자료구조를 이용해 구현한다.\n",
        "\n",
        "파이썬의 경우 기본 자료형인 리스트 자료형이 append()와 기타 메소드를 제공하므로 전통적인 프로그래밍 언어에서의 배열과 연결 리스트의 기능을 모두 제공한다."
      ]
    },
    {
      "cell_type": "code",
      "metadata": {
        "colab": {
          "base_uri": "https://localhost:8080/"
        },
        "id": "-x26n_Mkr1DP",
        "outputId": "80a121d2-6fc8-4315-b3a3-562d4a42f040"
      },
      "source": [
        "# 행(Row)이 3개인 2차원 리스트로 인접 리스트 표현\n",
        "graph = [[] for _ in range(3)]\n",
        "\n",
        "# 행의 갯수가 node의 수라고 생각하면 됨, 해당 node에 append()를 하면 노드 정보를 저장할 수 있다.\n",
        "# (노드, 거리)\n",
        "graph[0].append((1,7))\n",
        "graph[0].append((2,5))\n",
        "\n",
        "graph[1].append((0,7))\n",
        "\n",
        "graph[2].append((0,5))\n",
        "\n",
        "print(graph)"
      ],
      "execution_count": 5,
      "outputs": [
        {
          "output_type": "stream",
          "text": [
            "[[(1, 7), (2, 5)], [(0, 7)], [(0, 5)]]\n"
          ],
          "name": "stdout"
        }
      ]
    },
    {
      "cell_type": "markdown",
      "metadata": {
        "id": "QwSXkxpZfBZj"
      },
      "source": [
        "## DFS"
      ]
    },
    {
      "cell_type": "markdown",
      "metadata": {
        "id": "Qlr4rD-sfC3Q"
      },
      "source": [
        "## BFS"
      ]
    },
    {
      "cell_type": "markdown",
      "metadata": {
        "id": "UYw1EJygB8AG"
      },
      "source": [
        "# **두 배열의 원소 교체**\n",
        "\n",
        "N개의 원소로 구성되어 있는 두 배열 A, B는 최대 K번 바꿔치기 연산을 수행할 수 있다. 바꿔치기 연산이란 배열 A에 있는 원소 하나와 배열 B에 있는 원소 하나를 골라서 서로 바꾸는 것을 의미한다. 최종목표는 배열 A의 모든 원소의 합이 최대가 되도록 하는 것이다.\n",
        "\n",
        "---\n",
        "\n",
        "--입력예시--\n",
        "\n",
        "5 3\n",
        "1 2 5 4 3\n",
        "5 5 6 6 5\n",
        "\n",
        "--출력예시--\n",
        "\n",
        "26\n"
      ]
    },
    {
      "cell_type": "code",
      "metadata": {
        "colab": {
          "base_uri": "https://localhost:8080/"
        },
        "id": "gfgMsgLrUAY2",
        "outputId": "127e5623-8d00-4cba-8ddd-43463bb951d8"
      },
      "source": [
        "N, K = map(int,input().split(' '))\n",
        "list_A = list(map(int,input().split(' ')))\n",
        "list_B = list(map(int,input().split(' ')))\n",
        "\n",
        "list_A.sort()\n",
        "list_B.sort(reverse=True)\n",
        "\n",
        "output = 0\n",
        "for i in range(N):\n",
        "  if i<K:   output+=list_B[i]\n",
        "  else:     output+=list_A[i]\n",
        "\n",
        "print(output)"
      ],
      "execution_count": null,
      "outputs": [
        {
          "output_type": "stream",
          "text": [
            "5 3\n",
            "1 2 5 4 3\n",
            "5 5 6 6 5\n",
            "[1, 2, 3, 4, 5]\n",
            "[6, 6, 5, 5, 5]\n",
            "26\n"
          ],
          "name": "stdout"
        }
      ]
    },
    {
      "cell_type": "code",
      "metadata": {
        "id": "fzdlfwjluTEO"
      },
      "source": [
        ""
      ],
      "execution_count": null,
      "outputs": []
    }
  ]
}