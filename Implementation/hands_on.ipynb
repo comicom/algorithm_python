{
  "nbformat": 4,
  "nbformat_minor": 0,
  "metadata": {
    "colab": {
      "name": "hands_on.ipynb",
      "provenance": [],
      "collapsed_sections": [],
      "authorship_tag": "ABX9TyMRYa8M4vCBEkIHK1wAEXyA",
      "include_colab_link": true
    },
    "kernelspec": {
      "name": "python3",
      "display_name": "Python 3"
    },
    "language_info": {
      "name": "python"
    }
  },
  "cells": [
    {
      "cell_type": "markdown",
      "metadata": {
        "id": "view-in-github",
        "colab_type": "text"
      },
      "source": [
        "<a href=\"https://colab.research.google.com/github/comicom/algorithm_python/blob/master/Implementation/hands_on.ipynb\" target=\"_parent\"><img src=\"https://colab.research.google.com/assets/colab-badge.svg\" alt=\"Open In Colab\"/></a>"
      ]
    },
    {
      "cell_type": "markdown",
      "metadata": {
        "id": "Z31SIlAU0SLG"
      },
      "source": [
        "#**[한 장으로 보는 알고리즘]구현**\n"
      ]
    },
    {
      "cell_type": "code",
      "metadata": {
        "id": "Det7_hGdzxx9"
      },
      "source": [
        ""
      ],
      "execution_count": null,
      "outputs": []
    },
    {
      "cell_type": "markdown",
      "metadata": {
        "id": "R0fwcXIb0UlQ"
      },
      "source": [
        "#**럭키 스트레이트**"
      ]
    },
    {
      "cell_type": "code",
      "metadata": {
        "colab": {
          "base_uri": "https://localhost:8080/"
        },
        "id": "YIsOH4xOz_Ns",
        "outputId": "50410987-48de-4d6f-b3ca-f2008e3f5a64"
      },
      "source": [
        "given = input()\n",
        "length = len(given)\n",
        "\n",
        "left = given[:length//2]\n",
        "right = given[length//2:]\n",
        "\n",
        "left_num = 0\n",
        "right_num = 0\n",
        "\n",
        "for i in range(length//2):\n",
        "  left_num += int(left[i])\n",
        "  right_num += int(right[i])\n",
        "\n",
        "if left_num == right_num:\n",
        "  print('LUCKY')\n",
        "else:\n",
        "  print('READY')"
      ],
      "execution_count": 7,
      "outputs": [
        {
          "output_type": "stream",
          "text": [
            "7755\n",
            "READY\n"
          ],
          "name": "stdout"
        }
      ]
    },
    {
      "cell_type": "markdown",
      "metadata": {
        "id": "Q_trqghi0UoZ"
      },
      "source": [
        "#**문자열 재정렬**"
      ]
    },
    {
      "cell_type": "code",
      "metadata": {
        "colab": {
          "base_uri": "https://localhost:8080/"
        },
        "id": "JPTDTkkL1nEa",
        "outputId": "7ea642fc-f527-40eb-88db-9249247f8904"
      },
      "source": [
        "given = input()\n",
        "\n",
        "digit = ''\n",
        "alphabet = ''\n",
        "for g in given:\n",
        "  if g.isdigit()==True:\n",
        "    digit+=g\n",
        "  else:\n",
        "    alphabet+=g\n",
        "\n",
        "test_list = list(alphabet)\n",
        "test_list.sort()\n",
        "\n",
        "output = ''\n",
        "for t in test_list:\n",
        "  output+=t\n",
        "\n",
        "number=0\n",
        "for d in digit:\n",
        "  number+=int(d)\n",
        "\n",
        "output=output+str(number)\n",
        "print(output)"
      ],
      "execution_count": 15,
      "outputs": [
        {
          "output_type": "stream",
          "text": [
            "AJKDLSI412K4JSJ9D\n",
            "ADDIJJJKKLSS20\n"
          ],
          "name": "stdout"
        }
      ]
    },
    {
      "cell_type": "markdown",
      "metadata": {
        "id": "L7oKzmMJ0Uy0"
      },
      "source": [
        "#**문자열 압축**"
      ]
    },
    {
      "cell_type": "markdown",
      "metadata": {
        "id": "yJMMvCSk0pr6"
      },
      "source": [
        "#**자물쇠와 열쇠**"
      ]
    },
    {
      "cell_type": "markdown",
      "metadata": {
        "id": "o0UWJ3mw0pvB"
      },
      "source": [
        "#**뱀**\n"
      ]
    },
    {
      "cell_type": "markdown",
      "metadata": {
        "id": "6nceybgY0xCN"
      },
      "source": [
        "#**기둥과 보 설치**"
      ]
    },
    {
      "cell_type": "markdown",
      "metadata": {
        "id": "i5j-Lyyoz4_Y"
      },
      "source": [
        "#**치킨 배달**"
      ]
    },
    {
      "cell_type": "markdown",
      "metadata": {
        "id": "H1lS5K1cz5KU"
      },
      "source": [
        "#**외벽 점검**"
      ]
    }
  ]
}