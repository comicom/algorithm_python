{
  "nbformat": 4,
  "nbformat_minor": 0,
  "metadata": {
    "colab": {
      "name": "startup.ipynb",
      "provenance": [],
      "authorship_tag": "ABX9TyPCcHnCSLeAUNviQhQrmbly",
      "include_colab_link": true
    },
    "kernelspec": {
      "name": "python3",
      "display_name": "Python 3"
    },
    "language_info": {
      "name": "python"
    }
  },
  "cells": [
    {
      "cell_type": "markdown",
      "metadata": {
        "id": "view-in-github",
        "colab_type": "text"
      },
      "source": [
        "<a href=\"https://colab.research.google.com/github/comicom/algorithm_python/blob/master/Implementation/startup.ipynb\" target=\"_parent\"><img src=\"https://colab.research.google.com/assets/colab-badge.svg\" alt=\"Open In Colab\"/></a>"
      ]
    },
    {
      "cell_type": "markdown",
      "metadata": {
        "id": "q3cECi5rbFsv"
      },
      "source": [
        "왕실의 나이트\n",
        "게임 개발"
      ]
    },
    {
      "cell_type": "markdown",
      "metadata": {
        "id": "HQ3KvhgqEDoB"
      },
      "source": [
        "# **상하좌우**\n",
        "\n",
        "여행가 A는 N x N 크기의 정사각형 공간 위에 서 있다. 이 공간은 1 x 1 크기의 정사각형으로 나누어져 있다. 가장 왼쪽 위 좌표는 (1, 1)이며, 가장 오른쪽 아래 좌표는 (N, N)에 해당한다. A는 상, 하, 좌, 우 방향으로 이동할 수 있으며, 시작좌표는 항상 (1, 1)이다. 최종 도착 좌표를 출력하시오.\n",
        "\n",
        "- L: left\n",
        "- R: right\n",
        "- U: up\n",
        "- D: down\n",
        "\n",
        "<<입력예시>>\n",
        "\n",
        "5\n",
        "\n",
        "R R R U D D\n",
        "\n",
        "<<출력예시>>\n",
        "\n",
        "3 4\n"
      ]
    },
    {
      "cell_type": "code",
      "metadata": {
        "colab": {
          "base_uri": "https://localhost:8080/"
        },
        "id": "JYN8xFW3A96e",
        "outputId": "2ecb6868-9f8e-4537-9890-6176c97dc53d"
      },
      "source": [
        "N = int(input())\n",
        "move = input().split(' ')\n",
        "x, y = 1, 1\n",
        "for m in move:\n",
        "  if m == 'L':\n",
        "    if y == 1:\n",
        "      pass\n",
        "    else:\n",
        "      y -= 1\n",
        "  elif m == 'R':\n",
        "    if y == N:\n",
        "      pass\n",
        "    else:\n",
        "      y += 1\n",
        "  elif m == 'U':\n",
        "    if x == 1:\n",
        "      pass\n",
        "    else:\n",
        "      x -= 1\n",
        "  elif m == 'D':\n",
        "    if x == N:\n",
        "      pass\n",
        "    else:\n",
        "      x += 1\n",
        "\n",
        "print(str(x) + ' ' + str(y))"
      ],
      "execution_count": 5,
      "outputs": [
        {
          "output_type": "stream",
          "text": [
            "5\n",
            "R R R U D D\n",
            "3 4\n"
          ],
          "name": "stdout"
        }
      ]
    },
    {
      "cell_type": "markdown",
      "metadata": {
        "id": "kUqo19c6B0ao"
      },
      "source": [
        "# **시각**\n",
        "\n",
        "정수 N이 입력되면 00시 00분 00초부터 N시 59분 59초까지 모든 시각 중에서 3이 하나라도 포함되는 모든 경우의 수를 구하는 프로그램을 작성하시오. 예를 들어 1을 입력했을 때 다음은 3이 하나라도 포함되어 있으므로 세어야 하는 시각이다.\n",
        "\n"
      ]
    },
    {
      "cell_type": "code",
      "metadata": {
        "colab": {
          "base_uri": "https://localhost:8080/"
        },
        "id": "KHXdRJZsF2uU",
        "outputId": "87bebcdb-485a-42af-c243-6a3818b66f83"
      },
      "source": [
        "N = input()\n",
        "if int(N)<10: N='0'+N\n",
        "\n",
        "h, m, s = '00', '00', '00'\n",
        "time = h+m+s\n",
        "count = 0\n",
        "\n",
        "while time!=N+'5959':\n",
        "  if '3' in time:\n",
        "    count += 1\n",
        "  if s != '59':\n",
        "    s=str(int(s)+1)\n",
        "    if int(s)<10: s='0'+s\n",
        "  else:\n",
        "    s='00'\n",
        "    if m != '59':\n",
        "      m=str(int(m)+1)\n",
        "      if int(m)<10: m='0'+m\n",
        "    else:\n",
        "      m='00'\n",
        "      h=str(int(h)+1)\n",
        "      if int(h)<10: h='0'+h\n",
        "  time = h+m+s\n",
        "\n",
        "print(count)"
      ],
      "execution_count": 16,
      "outputs": [
        {
          "output_type": "stream",
          "text": [
            "5\n",
            "11475\n"
          ],
          "name": "stdout"
        }
      ]
    },
    {
      "cell_type": "markdown",
      "metadata": {
        "id": "UYw1EJygB8AG"
      },
      "source": [
        "# **숫자 카드 게임**\n",
        "\n"
      ]
    },
    {
      "cell_type": "markdown",
      "metadata": {
        "id": "pRojtDhoB8Mo"
      },
      "source": [
        "# **1이 될 때까지**"
      ]
    }
  ]
}