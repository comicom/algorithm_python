{
  "nbformat": 4,
  "nbformat_minor": 0,
  "metadata": {
    "colab": {
      "name": "startup.ipynb",
      "provenance": [],
      "collapsed_sections": [],
      "authorship_tag": "ABX9TyPrRdREzEJajyNhHBIyyJO8",
      "include_colab_link": true
    },
    "kernelspec": {
      "name": "python3",
      "display_name": "Python 3"
    },
    "language_info": {
      "name": "python"
    }
  },
  "cells": [
    {
      "cell_type": "markdown",
      "metadata": {
        "id": "view-in-github",
        "colab_type": "text"
      },
      "source": [
        "<a href=\"https://colab.research.google.com/github/comicom/algorithm_python/blob/master/Implementation/startup.ipynb\" target=\"_parent\"><img src=\"https://colab.research.google.com/assets/colab-badge.svg\" alt=\"Open In Colab\"/></a>"
      ]
    },
    {
      "cell_type": "markdown",
      "metadata": {
        "id": "HQ3KvhgqEDoB"
      },
      "source": [
        "# **상하좌우**\n",
        "\n",
        "여행가 A는 N x N 크기의 정사각형 공간 위에 서 있다. 이 공간은 1 x 1 크기의 정사각형으로 나누어져 있다. 가장 왼쪽 위 좌표는 (1, 1)이며, 가장 오른쪽 아래 좌표는 (N, N)에 해당한다. A는 상, 하, 좌, 우 방향으로 이동할 수 있으며, 시작좌표는 항상 (1, 1)이다. 최종 도착 좌표를 출력하시오.\n",
        "\n",
        "- L: left\n",
        "- R: right\n",
        "- U: up\n",
        "- D: down\n",
        "\n",
        "--입력예시--\n",
        "\n",
        "5\n",
        "\n",
        "R R R U D D\n",
        "\n",
        "--출력예시--\n",
        "\n",
        "3 4\n"
      ]
    },
    {
      "cell_type": "code",
      "metadata": {
        "colab": {
          "base_uri": "https://localhost:8080/"
        },
        "id": "JYN8xFW3A96e",
        "outputId": "2ecb6868-9f8e-4537-9890-6176c97dc53d"
      },
      "source": [
        "N = int(input())\n",
        "move = input().split(' ')\n",
        "x, y = 1, 1\n",
        "for m in move:\n",
        "  if m == 'L':\n",
        "    if y == 1:\n",
        "      pass\n",
        "    else:\n",
        "      y -= 1\n",
        "  elif m == 'R':\n",
        "    if y == N:\n",
        "      pass\n",
        "    else:\n",
        "      y += 1\n",
        "  elif m == 'U':\n",
        "    if x == 1:\n",
        "      pass\n",
        "    else:\n",
        "      x -= 1\n",
        "  elif m == 'D':\n",
        "    if x == N:\n",
        "      pass\n",
        "    else:\n",
        "      x += 1\n",
        "\n",
        "print(str(x) + ' ' + str(y))"
      ],
      "execution_count": 5,
      "outputs": [
        {
          "output_type": "stream",
          "text": [
            "5\n",
            "R R R U D D\n",
            "3 4\n"
          ],
          "name": "stdout"
        }
      ]
    },
    {
      "cell_type": "markdown",
      "metadata": {
        "id": "kUqo19c6B0ao"
      },
      "source": [
        "# **시각**\n",
        "\n",
        "정수 N이 입력되면 00시 00분 00초부터 N시 59분 59초까지 모든 시각 중에서 3이 하나라도 포함되는 모든 경우의 수를 구하는 프로그램을 작성하시오. 예를 들어 1을 입력했을 때 다음은 3이 하나라도 포함되어 있으므로 세어야 하는 시각이다.\n",
        "\n"
      ]
    },
    {
      "cell_type": "code",
      "metadata": {
        "colab": {
          "base_uri": "https://localhost:8080/"
        },
        "id": "KHXdRJZsF2uU",
        "outputId": "87bebcdb-485a-42af-c243-6a3818b66f83"
      },
      "source": [
        "N = input()\n",
        "if int(N)<10: N='0'+N\n",
        "\n",
        "h, m, s = '00', '00', '00'\n",
        "time = h+m+s\n",
        "count = 0\n",
        "\n",
        "while time!=N+'5959':\n",
        "  if '3' in time:\n",
        "    count += 1\n",
        "  if s != '59':\n",
        "    s=str(int(s)+1)\n",
        "    if int(s)<10: s='0'+s\n",
        "  else:\n",
        "    s='00'\n",
        "    if m != '59':\n",
        "      m=str(int(m)+1)\n",
        "      if int(m)<10: m='0'+m\n",
        "    else:\n",
        "      m='00'\n",
        "      h=str(int(h)+1)\n",
        "      if int(h)<10: h='0'+h\n",
        "  time = h+m+s\n",
        "\n",
        "print(count)"
      ],
      "execution_count": 16,
      "outputs": [
        {
          "output_type": "stream",
          "text": [
            "5\n",
            "11475\n"
          ],
          "name": "stdout"
        }
      ]
    },
    {
      "cell_type": "markdown",
      "metadata": {
        "id": "UYw1EJygB8AG"
      },
      "source": [
        "# **왕실의 나이트** ★\n",
        "\n",
        "나이트는 말을 타고 있기 때문에 이동을 할 때는 L자 형태로 이동할 수 있으며 정원 밖으로는 나갈 수 없다. 나이트는 특정한 위치에서 다음과 같은 2가지 경우로 이동할 수 있다.\n",
        "\n",
        "1. 수평으로 두 칸 이동한 뒤에 수직으로 한 칸 이동하기\n",
        "2. 수직으로 두 칸 이동한 뒤에 수평으로 한 칸 이동하기\n",
        "\n",
        "\n"
      ]
    },
    {
      "cell_type": "code",
      "metadata": {
        "colab": {
          "base_uri": "https://localhost:8080/"
        },
        "id": "7vks4FlVjlQy",
        "outputId": "30aa3af7-c244-48f9-810d-3ce1c0bc5671"
      },
      "source": [
        "given = input()\n",
        "x, y = ord(given[0])-96, int(given[1])\n",
        "\n",
        "move = [[2,1],[2,-1],[-2,1],[-2,-1],[1,2],[1,-2],[-1,2],[-1,-2]]\n",
        "cnt = 0\n",
        "\n",
        "for m in move:\n",
        "  if x+m[0]>0 and y+m[1]>0:\n",
        "    cnt+=1\n",
        "\n",
        "print(cnt)"
      ],
      "execution_count": 28,
      "outputs": [
        {
          "output_type": "stream",
          "text": [
            "a1\n",
            "2\n"
          ],
          "name": "stdout"
        }
      ]
    },
    {
      "cell_type": "markdown",
      "metadata": {
        "id": "pRojtDhoB8Mo"
      },
      "source": [
        "# **게임 개발** ★\n",
        "\n",
        "캐릭터가 있는 장소는 1 x 1크기의 정사각형으로 이뤄진 N x M 크기의 정사각형으로, 각각의 칸은 육지 또는 바다이다.\n",
        "\n",
        "맵의 각 칸은 (A, B)로 나타낼 수 있음, A: 북쪽으로부터 떨어진 칸의 개수, B: 서쪽으로부터 떨어진 칸의 개수\n",
        "\n",
        "1. 현재 위치에서 현재 방향을 기준으로 왼쪽방향부터 차례대로 갈 곳을 정한다.\n",
        "2. 캐릭터의 바로 왼쪽방향에 아직 가보지 않은 칸이 존재한다면, 왼쪽 방향으로 회전한 다음 왼쪽으로 한 칸 전진; 없다면, 왼쪽 방향으로 회전만 수행 1단계로 돌아감\n",
        "3. 만약 네 방향 모두 이미 가본 칸이거나 바다로 되어 있는 칸인 경우라면, 바라보는 방향을 유지한채로 한 칸 뒤로 가고 1단계로 돌아감; 단 이때 뒤쪽 방향이 바다인 칸이라 뒤로 갈 수 없는 경우에는 움직임을 멈춤"
      ]
    },
    {
      "cell_type": "code",
      "metadata": {
        "colab": {
          "base_uri": "https://localhost:8080/"
        },
        "id": "xCd3-sT9pjIw",
        "outputId": "0eef85f1-9e6a-43a2-999e-aab7e32378ee"
      },
      "source": [
        "N, M = map(int,input().split(' '))\n",
        "y, x, rot = map(int,input().split(' '))\n",
        "rotate = [[]]\n",
        "dataset = []\n",
        "cnt = 0\n",
        "\n",
        "for i in range(N):\n",
        "  dataset.append(list(map(int,input().split(' '))))\n",
        "\n",
        "print(x, y, rot)\n",
        "print(dataset)"
      ],
      "execution_count": 29,
      "outputs": [
        {
          "output_type": "stream",
          "text": [
            "4 4\n",
            "1 1 0\n",
            "1 1 1 1\n",
            "1 0 0 1\n",
            "1 1 0 1\n",
            "1 1 1 1\n",
            "1 1 0\n",
            "[[1, 1, 1, 1], [1, 0, 0, 1], [1, 1, 0, 1], [1, 1, 1, 1]]\n"
          ],
          "name": "stdout"
        }
      ]
    },
    {
      "cell_type": "code",
      "metadata": {
        "id": "vCe03fPuqIUk"
      },
      "source": [
        "# 맵 기본 정보 받기\n",
        "# 방문한 위치 저장\n",
        "# 현재 캐릭터 상태 저장\n",
        "# 전체 맵 정보 받기\n",
        "# 북 동 남 서 방향에서의 dx/dy 값 정의\n",
        "# 왼쪽으로 회전\n",
        "# 시뮬레이션\n",
        "# 정답 출력"
      ],
      "execution_count": null,
      "outputs": []
    }
  ]
}