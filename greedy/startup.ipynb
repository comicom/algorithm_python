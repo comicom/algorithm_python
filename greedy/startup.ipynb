{
  "nbformat": 4,
  "nbformat_minor": 0,
  "metadata": {
    "colab": {
      "name": "startup.ipynb",
      "provenance": [],
      "collapsed_sections": [],
      "authorship_tag": "ABX9TyPgud8y7zIey/BvE/EHPjUX",
      "include_colab_link": true
    },
    "kernelspec": {
      "name": "python3",
      "display_name": "Python 3"
    },
    "language_info": {
      "name": "python"
    }
  },
  "cells": [
    {
      "cell_type": "markdown",
      "metadata": {
        "id": "view-in-github",
        "colab_type": "text"
      },
      "source": [
        "<a href=\"https://colab.research.google.com/github/comicom/algorithm_python/blob/master/greedy/startup.ipynb\" target=\"_parent\"><img src=\"https://colab.research.google.com/assets/colab-badge.svg\" alt=\"Open In Colab\"/></a>"
      ]
    },
    {
      "cell_type": "markdown",
      "metadata": {
        "id": "HQ3KvhgqEDoB"
      },
      "source": [
        "# **당장 좋은 것만 선택하는 그리디**\n",
        "\n",
        "손님에게 거슬러 줘야하는 돈의 N원일때, 거슬러줘야하는 돈의 최소 갯수\n",
        "이때, 잔돈은 500, 100, 50, 10이다."
      ]
    },
    {
      "cell_type": "code",
      "metadata": {
        "colab": {
          "base_uri": "https://localhost:8080/"
        },
        "id": "JYN8xFW3A96e",
        "outputId": "fa7a4232-a8c8-4fbe-9282-cabbc1f7fe12"
      },
      "source": [
        "money = int(input())\n",
        "corrency = [500,100,50,10]\n",
        "output = 0\n",
        "for c in corrency:\n",
        "  output += money//c\n",
        "  money %= c\n",
        "print(output)"
      ],
      "execution_count": null,
      "outputs": [
        {
          "output_type": "stream",
          "text": [
            "650\n",
            "3\n"
          ],
          "name": "stdout"
        }
      ]
    },
    {
      "cell_type": "markdown",
      "metadata": {
        "id": "kUqo19c6B0ao"
      },
      "source": [
        "# **큰 수 법칙**\n",
        "\n",
        "다양한 수로 이루어진 배열이 있을 때,\n",
        "\n",
        "주언진 수들을 M번 더하여 가장 큰 수를 만드는 법칙\n",
        "\n",
        "단, 배열의 특정한 인덱스에 해당하는 수가 연속해서 K번을 초과하여 더해질 수 없는 것이 이 법칙의 특징\n",
        "\n",
        "--입력예시--\n",
        "\n",
        "5 8 3\n",
        "\n",
        "2 4 5 4 6\n",
        "\n",
        "--출력예시--\n",
        "\n",
        "46\n"
      ]
    },
    {
      "cell_type": "code",
      "metadata": {
        "colab": {
          "base_uri": "https://localhost:8080/"
        },
        "id": "KHXdRJZsF2uU",
        "outputId": "a7f878f0-93eb-4fa7-b883-4f6aef1c1413"
      },
      "source": [
        "N, M, K = map(int,input().split(' '))\n",
        "num = map(int,input().split(' '))\n",
        "\n",
        "max_1 = 0\n",
        "max_2 = 0\n",
        "\n",
        "# 만약에 n이 max_2보다 크면 max_2 = n\n",
        "# 만약에 max_2가 max_1보다 크면 max1 = max_2 \n",
        "for n in num:\n",
        "  if n > max_2:\n",
        "    max_2 = n\n",
        "  if max_2 > max_1:\n",
        "    dummy = max_1\n",
        "    max_1 = max_2\n",
        "    max_2 = dummy\n",
        "\n",
        "output = (max_1*K+max_2)*(M//K)+max_1*(M%(K+1))\n",
        "print(output)"
      ],
      "execution_count": null,
      "outputs": [
        {
          "output_type": "stream",
          "text": [
            "5 8 3\n",
            "2 4 5 4 6\n",
            "46\n"
          ],
          "name": "stdout"
        }
      ]
    },
    {
      "cell_type": "markdown",
      "metadata": {
        "id": "UYw1EJygB8AG"
      },
      "source": [
        "# **숫자 카드 게임**\n",
        "\n",
        "가장 높은 숫자가 쓰인 카드 한 장을 뽑는 게임이다.\n",
        "\n",
        "1. 숫자가 쓰인 카드들이 N x M 형태로 놓여 있다. 이때 N은 행의 개수를 의미하며, M은 열의 개수를 의미한다.\n",
        "2. 먼저 뽑고자 하는 카드가 포하모디어 있는 행을 선택한다.\n",
        "3. 그다음 선택된 행에 포함된 카드들 중 가장 숫자가 낮은 카드를 뽑아야 한다.\n",
        "4. 따라서 처음에 카드를 골라낼 행을 선택할 때, 이후에 해당 행에서 가장 숫자가 낮은 카드를 뽑을 것을 고려하여 최종적으로 가장 높은 숫자의 카드를 뽑을 수 있도록 전략을 세워야 한다.\n",
        "\n",
        "---\n",
        "\n",
        "--입력예시--\n",
        "\n",
        "3 3\n",
        "\n",
        "3 1 2\n",
        "\n",
        "4 1 4\n",
        "\n",
        "2 2 2\n",
        "\n",
        "--출력예시--\n",
        "\n",
        "2\n",
        "\n",
        "---\n",
        "\n",
        "--입력예시-\n",
        "\n",
        "2 4\n",
        "\n",
        "7 3 1 8\n",
        "\n",
        "3 3 3 4\n",
        "\n",
        "--출력예시--\n",
        "\n",
        "2\n"
      ]
    },
    {
      "cell_type": "code",
      "metadata": {
        "colab": {
          "base_uri": "https://localhost:8080/"
        },
        "id": "gfgMsgLrUAY2",
        "outputId": "da8ad2c9-8464-4bb5-c6f7-4032573fcc47"
      },
      "source": [
        "N, M = map(int, input().split(' '))\n",
        "\n",
        "min = 0\n",
        "for i in range(N):\n",
        "  dummy_list = list(map(int, input().split(' ')))\n",
        "  dummy_min = 10001\n",
        "  for dummy_l in dummy_list:\n",
        "    if dummy_min > dummy_l:\n",
        "      dummy_min = dummy_l\n",
        "  if dummy_min > min:\n",
        "    min = dummy_min\n",
        "\n",
        "print(min)"
      ],
      "execution_count": null,
      "outputs": [
        {
          "output_type": "stream",
          "text": [
            "2 4\n",
            "7 3 1 8\n",
            "3 3 3 4\n",
            "3\n"
          ],
          "name": "stdout"
        }
      ]
    },
    {
      "cell_type": "markdown",
      "metadata": {
        "id": "pRojtDhoB8Mo"
      },
      "source": [
        "# **1이 될 때까지**\n",
        "\n",
        "어떠한 수 N이 1이 될 때까지 다음의 두 과정 중 하나를 반복적으로 선택하여 수행하려고 한다. 단, 두 번째 연산은 N이 K로 나누어 떨어질 때만 선택할 수 있다.\n",
        "\n",
        "1. N에서 1을 뺀다.\n",
        "2. N을 K로 나눈다."
      ]
    },
    {
      "cell_type": "code",
      "metadata": {
        "colab": {
          "base_uri": "https://localhost:8080/"
        },
        "id": "QUm0GrOMZCDO",
        "outputId": "8a8d6722-0fa5-4ee2-c127-1d147f206eb1"
      },
      "source": [
        "N, K = map(int, input().split(' '))\n",
        "\n",
        "count = 0\n",
        "while N!=1:\n",
        "  if N % K == 0:\n",
        "    N //= K\n",
        "  else:\n",
        "    N -= 1\n",
        "  count += 1\n",
        "\n",
        "print(count)"
      ],
      "execution_count": null,
      "outputs": [
        {
          "output_type": "stream",
          "text": [
            "25 5\n",
            "5 5\n",
            "1 5\n",
            "2\n"
          ],
          "name": "stdout"
        }
      ]
    },
    {
      "cell_type": "code",
      "metadata": {
        "id": "kOn07N_laDxM"
      },
      "source": [
        ""
      ],
      "execution_count": null,
      "outputs": []
    }
  ]
}