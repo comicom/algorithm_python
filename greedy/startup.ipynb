{
  "nbformat": 4,
  "nbformat_minor": 0,
  "metadata": {
    "colab": {
      "name": "startup.ipynb",
      "provenance": [],
      "authorship_tag": "ABX9TyPD0mvCN+Yokj0liZ2UUppM",
      "include_colab_link": true
    },
    "kernelspec": {
      "name": "python3",
      "display_name": "Python 3"
    },
    "language_info": {
      "name": "python"
    }
  },
  "cells": [
    {
      "cell_type": "markdown",
      "metadata": {
        "id": "view-in-github",
        "colab_type": "text"
      },
      "source": [
        "<a href=\"https://colab.research.google.com/github/comicom/algorithm_python/blob/master/greedy/startup.ipynb\" target=\"_parent\"><img src=\"https://colab.research.google.com/assets/colab-badge.svg\" alt=\"Open In Colab\"/></a>"
      ]
    },
    {
      "cell_type": "markdown",
      "metadata": {
        "id": "HQ3KvhgqEDoB"
      },
      "source": [
        "# 당장 좋은 것만 선택하는 그리디\n",
        "\n",
        "손님에게 거슬러 줘야하는 돈의 N원일때, 거슬러줘야하는 돈의 최소 갯수\n",
        "이때, 잔돈은 500, 100, 50, 10이다."
      ]
    },
    {
      "cell_type": "code",
      "metadata": {
        "colab": {
          "base_uri": "https://localhost:8080/"
        },
        "id": "JYN8xFW3A96e",
        "outputId": "fa7a4232-a8c8-4fbe-9282-cabbc1f7fe12"
      },
      "source": [
        "money = int(input())\n",
        "corrency = [500,100,50,10]\n",
        "output = 0\n",
        "for c in corrency:\n",
        "  output += money//c\n",
        "  money %= c\n",
        "print(output)"
      ],
      "execution_count": 2,
      "outputs": [
        {
          "output_type": "stream",
          "text": [
            "650\n",
            "3\n"
          ],
          "name": "stdout"
        }
      ]
    },
    {
      "cell_type": "markdown",
      "metadata": {
        "id": "kUqo19c6B0ao"
      },
      "source": [
        "# **큰 수 법칙**\n",
        "\n",
        "다양한 수로 이루어진 배열이 있을 때,\n",
        "\n",
        "주언진 수들을 M번 더하여 가장 큰 수를 만드는 법칙\n",
        "\n",
        "단, 배열의 특정한 인덱스에 해당하는 수가 연속해서 K번을 초과하여 더해질 수 없는 것이 이 법칙의 특징\n",
        "\n",
        "<<입력예시>>\n",
        "\n",
        "5 8 3\n",
        "\n",
        "2 4 5 4 6\n",
        "\n",
        "<<출력예시>>\n",
        "\n",
        "46\n"
      ]
    },
    {
      "cell_type": "code",
      "metadata": {
        "colab": {
          "base_uri": "https://localhost:8080/"
        },
        "id": "KHXdRJZsF2uU",
        "outputId": "a7f878f0-93eb-4fa7-b883-4f6aef1c1413"
      },
      "source": [
        "N, M, K = map(int,input().split(' '))\n",
        "num = map(int,input().split(' '))\n",
        "\n",
        "max_1 = 0\n",
        "max_2 = 0\n",
        "\n",
        "# 만약에 n이 max_2보다 크면 max_2 = n\n",
        "# 만약에 max_2가 max_1보다 크면 max1 = max_2 \n",
        "for n in num:\n",
        "  if n > max_2:\n",
        "    max_2 = n\n",
        "  if max_2 > max_1:\n",
        "    dummy = max_1\n",
        "    max_1 = max_2\n",
        "    max_2 = dummy\n",
        "\n",
        "output = (max_1*K+max_2)*(M//K)+max_1*(M%(K+1))\n",
        "print(output)"
      ],
      "execution_count": 14,
      "outputs": [
        {
          "output_type": "stream",
          "text": [
            "5 8 3\n",
            "2 4 5 4 6\n",
            "46\n"
          ],
          "name": "stdout"
        }
      ]
    },
    {
      "cell_type": "markdown",
      "metadata": {
        "id": "UYw1EJygB8AG"
      },
      "source": [
        "# **숫자 카드 게임**\n",
        "\n"
      ]
    },
    {
      "cell_type": "markdown",
      "metadata": {
        "id": "pRojtDhoB8Mo"
      },
      "source": [
        "# **1이 될 때까지**"
      ]
    }
  ]
}