{
  "nbformat": 4,
  "nbformat_minor": 0,
  "metadata": {
    "colab": {
      "name": "hands_on.ipynb",
      "provenance": [],
      "authorship_tag": "ABX9TyMN3ZiRTik7wHBO1R38kFE8",
      "include_colab_link": true
    },
    "kernelspec": {
      "name": "python3",
      "display_name": "Python 3"
    },
    "language_info": {
      "name": "python"
    }
  },
  "cells": [
    {
      "cell_type": "markdown",
      "metadata": {
        "id": "view-in-github",
        "colab_type": "text"
      },
      "source": [
        "<a href=\"https://colab.research.google.com/github/comicom/algorithm_python/blob/master/greedy/hands_on.ipynb\" target=\"_parent\"><img src=\"https://colab.research.google.com/assets/colab-badge.svg\" alt=\"Open In Colab\"/></a>"
      ]
    },
    {
      "cell_type": "markdown",
      "metadata": {
        "id": "Z31SIlAU0SLG"
      },
      "source": [
        "#**[한 장으로 보는 알고리즘]그리디**\n"
      ]
    },
    {
      "cell_type": "code",
      "metadata": {
        "id": "Det7_hGdzxx9"
      },
      "source": [
        ""
      ],
      "execution_count": null,
      "outputs": []
    },
    {
      "cell_type": "markdown",
      "metadata": {
        "id": "R0fwcXIb0UlQ"
      },
      "source": [
        "#**모험가 길드**"
      ]
    },
    {
      "cell_type": "markdown",
      "metadata": {
        "id": "Q_trqghi0UoZ"
      },
      "source": [
        "#**곱하기 혹은 더하기**"
      ]
    },
    {
      "cell_type": "markdown",
      "metadata": {
        "id": "L7oKzmMJ0Uy0"
      },
      "source": [
        "#**문자열 뒤집기**"
      ]
    },
    {
      "cell_type": "markdown",
      "metadata": {
        "id": "yJMMvCSk0pr6"
      },
      "source": [
        "#**만들 수 없는 금액**"
      ]
    },
    {
      "cell_type": "markdown",
      "metadata": {
        "id": "o0UWJ3mw0pvB"
      },
      "source": [
        "#**볼링공 고르기**\n"
      ]
    },
    {
      "cell_type": "markdown",
      "metadata": {
        "id": "6nceybgY0xCN"
      },
      "source": [
        "#**무지의 먹방 라이브**"
      ]
    }
  ]
}