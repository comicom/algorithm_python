{
  "nbformat": 4,
  "nbformat_minor": 0,
  "metadata": {
    "colab": {
      "name": "hands_on.ipynb",
      "provenance": [],
      "authorship_tag": "ABX9TyP1y7z6h//hcvJ+XSmyPhNt",
      "include_colab_link": true
    },
    "kernelspec": {
      "name": "python3",
      "display_name": "Python 3"
    },
    "language_info": {
      "name": "python"
    }
  },
  "cells": [
    {
      "cell_type": "markdown",
      "metadata": {
        "id": "view-in-github",
        "colab_type": "text"
      },
      "source": [
        "<a href=\"https://colab.research.google.com/github/comicom/algorithm_python/blob/master/greedy/hands_on.ipynb\" target=\"_parent\"><img src=\"https://colab.research.google.com/assets/colab-badge.svg\" alt=\"Open In Colab\"/></a>"
      ]
    },
    {
      "cell_type": "markdown",
      "metadata": {
        "id": "Z31SIlAU0SLG"
      },
      "source": [
        "#**[한 장으로 보는 알고리즘]그리디**\n"
      ]
    },
    {
      "cell_type": "markdown",
      "metadata": {
        "id": "R0fwcXIb0UlQ"
      },
      "source": [
        "#**모험가 길드**"
      ]
    },
    {
      "cell_type": "code",
      "metadata": {
        "id": "Det7_hGdzxx9"
      },
      "source": [
        "N = int(input())\n",
        "state = map(int,input().split(' '))"
      ],
      "execution_count": null,
      "outputs": []
    },
    {
      "cell_type": "markdown",
      "metadata": {
        "id": "Q_trqghi0UoZ"
      },
      "source": [
        "#**곱하기 혹은 더하기**"
      ]
    },
    {
      "cell_type": "code",
      "metadata": {
        "colab": {
          "base_uri": "https://localhost:8080/"
        },
        "id": "5Q7nEnWAs89k",
        "outputId": "91232b03-c9fd-4793-cee2-17467b80d6e2"
      },
      "source": [
        "given = input()\n",
        "\n",
        "if given[0]=='0' or given[0]=='1' or given[1]=='0' or given[1]=='1':\n",
        "  output=int(given[0])+int(given[1])\n",
        "else:\n",
        "  output=int(given[0])*int(given[1])\n",
        "  \n",
        "for i in range(2,len(given)):\n",
        "  if given[i]=='0' or given[i]=='1':\n",
        "    output += int(given[i])\n",
        "  else:\n",
        "    output *= int(given[i])\n",
        "print(output)"
      ],
      "execution_count": 7,
      "outputs": [
        {
          "output_type": "stream",
          "text": [
            "567\n",
            "210\n"
          ],
          "name": "stdout"
        }
      ]
    },
    {
      "cell_type": "markdown",
      "metadata": {
        "id": "L7oKzmMJ0Uy0"
      },
      "source": [
        "#**문자열 뒤집기**"
      ]
    },
    {
      "cell_type": "code",
      "metadata": {
        "id": "uPKJsq-8vjS7"
      },
      "source": [
        ""
      ],
      "execution_count": null,
      "outputs": []
    },
    {
      "cell_type": "markdown",
      "metadata": {
        "id": "yJMMvCSk0pr6"
      },
      "source": [
        "#**만들 수 없는 금액**"
      ]
    },
    {
      "cell_type": "code",
      "metadata": {
        "id": "6A3Cxr7Uv_bc"
      },
      "source": [
        "N = int(input())\n",
        "money = list(map(int,input().split(' ')))\n",
        "\n",
        "cnt = 1\n",
        "\n",
        "while cnt<=1000000:\n",
        "\n"
      ],
      "execution_count": null,
      "outputs": []
    },
    {
      "cell_type": "markdown",
      "metadata": {
        "id": "o0UWJ3mw0pvB"
      },
      "source": [
        "#**볼링공 고르기**\n"
      ]
    },
    {
      "cell_type": "code",
      "metadata": {
        "id": "N2mcofh6xJ9-"
      },
      "source": [
        "N, M= map(int,input().split(' '))\n",
        "weight = map(int,input().split(' '))\n",
        "cnt = 0\n",
        "for w in weight:\n",
        "  "
      ],
      "execution_count": null,
      "outputs": []
    },
    {
      "cell_type": "markdown",
      "metadata": {
        "id": "6nceybgY0xCN"
      },
      "source": [
        "#**무지의 먹방 라이브**"
      ]
    }
  ]
}