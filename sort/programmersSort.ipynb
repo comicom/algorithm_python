{
  "nbformat": 4,
  "nbformat_minor": 0,
  "metadata": {
    "colab": {
      "name": "programmersSort.ipynb",
      "provenance": [],
      "collapsed_sections": [],
      "authorship_tag": "ABX9TyPwJWU/MAOumo0U6D2NX2Zq",
      "include_colab_link": true
    },
    "kernelspec": {
      "name": "python3",
      "display_name": "Python 3"
    },
    "language_info": {
      "name": "python"
    }
  },
  "cells": [
    {
      "cell_type": "markdown",
      "metadata": {
        "id": "view-in-github",
        "colab_type": "text"
      },
      "source": [
        "<a href=\"https://colab.research.google.com/github/comicom/algorithm_python/blob/master/sort/programmersSort.ipynb\" target=\"_parent\"><img src=\"https://colab.research.google.com/assets/colab-badge.svg\" alt=\"Open In Colab\"/></a>"
      ]
    },
    {
      "cell_type": "markdown",
      "metadata": {
        "id": "GF2CiTkYb4c5"
      },
      "source": [
        "# K번째수\n",
        "\n",
        "배열 array의 i번째 숫자부터 j번째 숫자까지 자르고 정렬했을 때, k번째에 있는 수를 구하려 합니다.\n",
        "\n",
        "예를 들어 array가 [1, 5, 2, 6, 3, 7, 4], i = 2, j = 5, k = 3이라면\n",
        "\n",
        "1. array의 2번째부터 5번째까지 자르면 [5, 2, 6, 3]입니다.\n",
        "2. 1에서 나온 배열을 정렬하면 [2, 3, 5, 6]입니다.\n",
        "3. 2에서 나온 배열의 3번째 숫자는 5입니다.\n",
        "4. 배열 array, [i, j, k]를 원소로 가진 2차원 배열 commands가 매개변수로 주어질 때, commands의 모든 원소에 대해 앞서 설명한 연산을 적용했을 때 나온 결과를 배열에 담아 return 하도록 solution 함수를 작성해주세요.\n",
        "\n",
        "제한사항\n",
        "* array의 길이는 1 이상 100 이하입니다.\n",
        "* array의 각 원소는 1 이상 100 이하입니다.\n",
        "* commands의 길이는 1 이상 50 이하입니다.\n",
        "* commands의 각 원소는 길이가 3입니다.\n",
        "\n",
        "입출력 예\n",
        "\n",
        "|array\t|commands\t|return|\n",
        "|-------|---------|------|\n",
        "|[1, 5, 2, 6, 3, 7, 4]\t|[[2, 5, 3], [4, 4, 1], [1, 7, 3]]\t|[5, 6, 3]\n",
        "\n",
        "입출력 예 설명\n",
        "1. [1, 5, 2, 6, 3, 7, 4]를 2번째부터 5번째까지 자른 후 정렬합니다. [2, 3, 5, 6]의 세 번째 숫자는 5입니다.\n",
        "2. [1, 5, 2, 6, 3, 7, 4]를 4번째부터 4번째까지 자른 후 정렬합니다. [6]의 첫 번째 숫자는 6입니다.\n",
        "3. [1, 5, 2, 6, 3, 7, 4]를 1번째부터 7번째까지 자릅니다. [1, 2, 3, 4, 5, 6, 7]의 세 번째 숫자는 3입니다.\n"
      ]
    },
    {
      "cell_type": "code",
      "metadata": {
        "id": "IIfyMYvubwjg"
      },
      "source": [
        "def solution(array, commands):\n",
        "    answer = []\n",
        "    for com in commands:\n",
        "        dummy = array[int(com[0])-1:int(com[1])]\n",
        "        dummy.sort()\n",
        "        answer.append(dummy[com[2]-1])\n",
        "    \n",
        "    return answer"
      ],
      "execution_count": null,
      "outputs": []
    },
    {
      "cell_type": "markdown",
      "metadata": {
        "id": "f9dFduVhcAfQ"
      },
      "source": [
        "# 가장 큰 수\n",
        "\n",
        "문제 설명\n",
        "0 또는 양의 정수가 주어졌을 때, 정수를 이어 붙여 만들 수 있는 가장 큰 수를 알아내 주세요.\n",
        "\n",
        "예를 들어, 주어진 정수가 [6, 10, 2]라면 [6102, 6210, 1062, 1026, 2610, 2106]를 만들 수 있고, 이중 가장 큰 수는 6210입니다.\n",
        "\n",
        "0 또는 양의 정수가 담긴 배열 numbers가 매개변수로 주어질 때, 순서를 재배치하여 만들 수 있는 가장 큰 수를 문자열로 바꾸어 return 하도록 solution 함수를 작성해주세요.\n",
        "\n",
        "제한 사항\n",
        "* numbers의 길이는 1 이상 100,000 이하입니다.\n",
        "* numbers의 원소는 0 이상 1,000 이하입니다.\n",
        "* 정답이 너무 클 수 있으니 문자열로 바꾸어 return 합니다.\n",
        "\n",
        "입출력 예\n",
        "\n",
        "|numbers\t|return|\n",
        "|---------|------|\n",
        "|[6, 10, 2]|\t\"6210\"|\n",
        "|[3, 30, 34, 5, 9]\t|\"9534330\"|\n",
        "\n",
        "※ 공지 - 2021년 10월 20일 테스트케이스가 추가되었습니다.\n"
      ]
    },
    {
      "cell_type": "code",
      "metadata": {
        "id": "cn4ZVIoocbez"
      },
      "source": [
        "# custom compare\n",
        "import functools\n",
        "\n",
        "def comp(n1, n2):\n",
        "  if int(str(n1) + str(n2)) < int(str(n2) + str(n1)):\n",
        "    return 1\n",
        "  elif int(str(n1) + str(n2)) > int(str(n2) + str(n1)):\n",
        "    return -1\n",
        "  return 0\n",
        "    \n",
        "def solution(numbers):\n",
        "  numbers.sort(key=functools.cmp_to_key(comp))\n",
        "  return \"\".join(str(_) for _ in numbers) if numbers[0] != 0 else \"0\""
      ],
      "execution_count": null,
      "outputs": []
    },
    {
      "cell_type": "markdown",
      "metadata": {
        "id": "B0eyLAQcdyMD"
      },
      "source": [
        "## functools\n",
        "\n",
        "1. lru_cached\n",
        "2. comp_to_key\n",
        "3. total_ordering\n",
        "4. partial\n",
        "5. reduce\n",
        "\n",
        "### lru_cached\n",
        "\n",
        "lru_cached는 함수의 리턴 결과를 캐시해주는 데코레이터이며, 최종 요청 이후에 캐시된 결과를 리턴한다. maxsize는 캐시할 수 있는 최대 갯수를 의미하며, Least Recently Used(LRU)를 사용하기 때문에 최근에 참고되지 않은 데이터가 교체된다.\n",
        "\n",
        "### comp_to_key\n",
        "\n",
        "sorted와 같은 정렬 함수의 key에 함수로 정렬을 하기 위해서 사용. 이 때 사용하는 함수는 두 개의 인수를 받아야 하고, 그들을 비교해서 작다면 음수, 같으면 0, 크다면 양수를 반환하도록 해야한다.\n",
        "\n",
        "> 참고 예제: [백준 1442, 숫자의 신] https://www.acmicpc.net/problem/1422\n",
        "\n",
        "### total_ordering\n",
        "\n",
        "@total_ordering 데코레이터를 사용하면, 사용자 정의 객체, 즉 class끼리 비교하거나 정렬할 수 있다.\n",
        "\n",
        "### partial\n",
        "\n",
        "partial은 한 함수의 특정 인자를 위한 함수를 만들기 위해 사용한다. 숫자나 문자열을 정수(integer)로 변환해주는 파이썬 내장 함수 int(x, base=10)을 재활용하여, 이진수로만 변환해주는 새로운 함수를 만들 수 있다.\n",
        "\n",
        "### reduce\n",
        "\n",
        "reduce는 반복가능한 객체(iterable)에 함수를 순차적으로 적용한다. 단, 각각의 객체에 적용하는 것이 아닌 누적형식으로 적용한다.\n",
        "\n",
        "\n",
        "ref. https://codedrive.tistory.com/455\n"
      ]
    },
    {
      "cell_type": "code",
      "metadata": {
        "id": "QVYfr-NYdj6r"
      },
      "source": [
        ""
      ],
      "execution_count": null,
      "outputs": []
    }
  ]
}