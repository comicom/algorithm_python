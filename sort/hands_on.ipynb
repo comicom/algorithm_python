{
  "nbformat": 4,
  "nbformat_minor": 0,
  "metadata": {
    "colab": {
      "name": "hands_on.ipynb",
      "provenance": [],
      "authorship_tag": "ABX9TyN1cHocU3iEJAC4dAAxztRR",
      "include_colab_link": true
    },
    "kernelspec": {
      "name": "python3",
      "display_name": "Python 3"
    },
    "language_info": {
      "name": "python"
    }
  },
  "cells": [
    {
      "cell_type": "markdown",
      "metadata": {
        "id": "view-in-github",
        "colab_type": "text"
      },
      "source": [
        "<a href=\"https://colab.research.google.com/github/comicom/algorithm_python/blob/master/sort/hands_on.ipynb\" target=\"_parent\"><img src=\"https://colab.research.google.com/assets/colab-badge.svg\" alt=\"Open In Colab\"/></a>"
      ]
    },
    {
      "cell_type": "markdown",
      "metadata": {
        "id": "Z31SIlAU0SLG"
      },
      "source": [
        "#**[한 장으로 보는 알고리즘] 정렬**\n"
      ]
    },
    {
      "cell_type": "markdown",
      "metadata": {
        "id": "R0fwcXIb0UlQ"
      },
      "source": [
        "#**국영수**"
      ]
    },
    {
      "cell_type": "code",
      "metadata": {
        "colab": {
          "base_uri": "https://localhost:8080/"
        },
        "id": "-_cu7SlNzz9B",
        "outputId": "6cf27320-3210-4b7e-a5af-e1570be29a04"
      },
      "source": [
        "N = int(input())\n",
        "students = []\n",
        "\n",
        "for i in range(N):\n",
        "  given=input().split(' ')\n",
        "  dummy_list=[given[0],int(given[1]),int(given[2]),int(given[3])]\n",
        "\n",
        "  students.append(tuple(dummy_list))\n",
        "\n",
        "output = sorted(students,key=lambda x: (-x[1],x[2],-x[3],x[0]))\n",
        "\n",
        "for o in output:\n",
        "  print(o[0],end='\\n')"
      ],
      "execution_count": 7,
      "outputs": [
        {
          "output_type": "stream",
          "text": [
            "12\n",
            "Junkyu 50 60 100\n",
            "Sangkeun 80 60 50\n",
            "Sunyoung 80 70 100\n",
            "Soong 50 60 70\n",
            "Haebin 50 60 100\n",
            "Kangsoo 60 80 100\n",
            "Donghyuk 80 60 100\n",
            "Sei 70 70 70\n",
            "Wonseob 70 70 90\n",
            "Sanghyun 70 70 80\n",
            "nsj 80 80 80\n",
            "Taewhan 50 60 90\n",
            "Donghyuk\n",
            "Sangkeun\n",
            "Sunyoung\n",
            "nsj\n",
            "Wonseob\n",
            "Sanghyun\n",
            "Sei\n",
            "Kangsoo\n",
            "Haebin\n",
            "Junkyu\n",
            "Taewhan\n",
            "Soong\n"
          ],
          "name": "stdout"
        }
      ]
    },
    {
      "cell_type": "markdown",
      "metadata": {
        "id": "RFkf_zRszyB6"
      },
      "source": [
        "#**안테나** (시간 초과)"
      ]
    },
    {
      "cell_type": "code",
      "metadata": {
        "id": "Det7_hGdzxx9",
        "colab": {
          "base_uri": "https://localhost:8080/"
        },
        "outputId": "a840e42a-0369-454a-df78-8a8d77717afb"
      },
      "source": [
        "N = int(input())\n",
        "antena = list(map(int,input().split(' ')))\n",
        "\n",
        "minimum=[-1,-1]\n",
        "for i in range(1,max(antena)+1):\n",
        "  length=0\n",
        "  for a in antena:\n",
        "    length+=abs(a-i)\n",
        "  if minimum[1]==-1 or minimum[1]>length:\n",
        "    minimum=[i,length]\n",
        "\n",
        "print(minimum[0])"
      ],
      "execution_count": 22,
      "outputs": [
        {
          "output_type": "stream",
          "text": [
            "4\n",
            "5 1 7 9\n",
            "5\n"
          ],
          "name": "stdout"
        }
      ]
    },
    {
      "cell_type": "markdown",
      "metadata": {
        "id": "Q_trqghi0UoZ"
      },
      "source": [
        "#**실패율**"
      ]
    },
    {
      "cell_type": "code",
      "metadata": {
        "colab": {
          "base_uri": "https://localhost:8080/"
        },
        "id": "5Q7nEnWAs89k",
        "outputId": "0fc92668-f00f-4e7d-b615-6fd8bfb92f3d"
      },
      "source": [
        "def solution(N, stages):\n",
        "    answer = [[i,0,0] for i in range(1,N+2)]\n",
        "    clear_members = len(stages)\n",
        "    \n",
        "    while len(stages)>0:\n",
        "        val = stages.pop()\n",
        "        answer[val-1][1]+=1\n",
        "    \n",
        "    cnt = 0\n",
        "    for ans in answer[:-1]:\n",
        "        if ans[1]!=0:\n",
        "            answer[cnt][2]=ans[1]/clear_members\n",
        "        else:\n",
        "            answer[cnt][2]=0\n",
        "        clear_members-=ans[1]\n",
        "        cnt+=1\n",
        "\n",
        "    answer.sort(reverse=True,key=lambda x:x[2])\n",
        "    \n",
        "    output=[]\n",
        "    for ans in answer[:-1]:\n",
        "        output.append(ans[0])\n",
        "\n",
        "    return output\n",
        "\n",
        "print(solution(5, [2, 1, 2, 6, 2, 4, 3, 3]))\n",
        "print(solution(4, [4,4,4,4,4]))"
      ],
      "execution_count": 23,
      "outputs": [
        {
          "output_type": "stream",
          "text": [
            "[3, 4, 2, 1, 5]\n",
            "[4, 1, 2, 3]\n"
          ],
          "name": "stdout"
        }
      ]
    },
    {
      "cell_type": "markdown",
      "metadata": {
        "id": "L7oKzmMJ0Uy0"
      },
      "source": [
        "#**카드 정렬하기**"
      ]
    },
    {
      "cell_type": "code",
      "metadata": {
        "id": "uPKJsq-8vjS7"
      },
      "source": [
        ""
      ],
      "execution_count": null,
      "outputs": []
    }
  ]
}