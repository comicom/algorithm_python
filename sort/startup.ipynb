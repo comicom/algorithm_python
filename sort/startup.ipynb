{
  "nbformat": 4,
  "nbformat_minor": 0,
  "metadata": {
    "colab": {
      "name": "startup.ipynb",
      "provenance": [],
      "collapsed_sections": [],
      "authorship_tag": "ABX9TyMPl9/11BNeOHitd5NwdXTx",
      "include_colab_link": true
    },
    "kernelspec": {
      "name": "python3",
      "display_name": "Python 3"
    },
    "language_info": {
      "name": "python"
    }
  },
  "cells": [
    {
      "cell_type": "markdown",
      "metadata": {
        "id": "view-in-github",
        "colab_type": "text"
      },
      "source": [
        "<a href=\"https://colab.research.google.com/github/comicom/algorithm_python/blob/master/sort/startup.ipynb\" target=\"_parent\"><img src=\"https://colab.research.google.com/assets/colab-badge.svg\" alt=\"Open In Colab\"/></a>"
      ]
    },
    {
      "cell_type": "markdown",
      "metadata": {
        "id": "HQ3KvhgqEDoB"
      },
      "source": [
        "# **위에서 아래로**\n",
        "\n",
        "수열을 내림차순으로 정렬하는 프로그램\n",
        "\n",
        "---\n",
        "\n",
        "--입력예시--\n",
        "\n",
        "3\n",
        "15\n",
        "27\n",
        "12\n",
        "\n",
        "--출력예시--\n",
        "\n",
        "27 15 12"
      ]
    },
    {
      "cell_type": "code",
      "metadata": {
        "colab": {
          "base_uri": "https://localhost:8080/"
        },
        "id": "JYN8xFW3A96e",
        "outputId": "0254800a-7cee-41a0-9386-2cbf59543934"
      },
      "source": [
        "N = int(input())\n",
        "numbers = []\n",
        "\n",
        "for i in range(N):\n",
        "  numbers.append(int(input()))\n",
        "\n",
        "output = sorted(numbers,reverse=True)\n",
        "for o in output: print(o,end=' ')"
      ],
      "execution_count": 6,
      "outputs": [
        {
          "output_type": "stream",
          "text": [
            "3\n",
            "15\n",
            "27\n",
            "12\n",
            "27 15 12 "
          ],
          "name": "stdout"
        }
      ]
    },
    {
      "cell_type": "markdown",
      "metadata": {
        "id": "kUqo19c6B0ao"
      },
      "source": [
        "# **성적인 낮은 순서로 학생 출력하기**\n",
        "\n",
        "성적이 낮은 순서대로 학생 이름 출력\n",
        "\n",
        "---\n",
        "\n",
        "--입력예시--\n",
        "\n",
        "2\n",
        "\n",
        "홍길동 95\n",
        "\n",
        "이순신 77\n",
        "\n",
        "--출력예시--\n",
        "\n",
        "이순신 홍길동\n"
      ]
    },
    {
      "cell_type": "code",
      "metadata": {
        "colab": {
          "base_uri": "https://localhost:8080/"
        },
        "id": "KHXdRJZsF2uU",
        "outputId": "a477d1b0-63b1-47a3-db5a-a9c3d65eec1b"
      },
      "source": [
        "N = int(input())\n",
        "students = []\n",
        "\n",
        "for i in range(N):\n",
        "  students.append(tuple(input().split(' ')))\n",
        "\n",
        "output = sorted(students,key=lambda data:data[1])\n",
        "\n",
        "for o in output:\n",
        "  print(o[0], end=' ')"
      ],
      "execution_count": 8,
      "outputs": [
        {
          "output_type": "stream",
          "text": [
            "2\n",
            "홍길동 95\n",
            "이순신 77\n",
            "이순신 홍길동 "
          ],
          "name": "stdout"
        }
      ]
    },
    {
      "cell_type": "markdown",
      "metadata": {
        "id": "UYw1EJygB8AG"
      },
      "source": [
        "# **두 배열의 원소 교체**\n",
        "\n",
        "N개의 원소로 구성되어 있는 두 배열 A, B는 최대 K번 바꿔치기 연산을 수행할 수 있다. 바꿔치기 연산이란 배열 A에 있는 원소 하나와 배열 B에 있는 원소 하나를 골라서 서로 바꾸는 것을 의미한다. 최종목표는 배열 A의 모든 원소의 합이 최대가 되도록 하는 것이다.\n",
        "\n",
        "---\n",
        "\n",
        "--입력예시--\n",
        "\n",
        "5 3\n",
        "1 2 5 4 3\n",
        "5 5 6 6 5\n",
        "\n",
        "--출력예시--\n",
        "\n",
        "26\n"
      ]
    },
    {
      "cell_type": "code",
      "metadata": {
        "colab": {
          "base_uri": "https://localhost:8080/"
        },
        "id": "gfgMsgLrUAY2",
        "outputId": "127e5623-8d00-4cba-8ddd-43463bb951d8"
      },
      "source": [
        "N, K = map(int,input().split(' '))\n",
        "list_A = list(map(int,input().split(' ')))\n",
        "list_B = list(map(int,input().split(' ')))\n",
        "\n",
        "list_A.sort()\n",
        "list_B.sort(reverse=True)\n",
        "\n",
        "output = 0\n",
        "for i in range(N):\n",
        "  if i<K:   output+=list_B[i]\n",
        "  else:     output+=list_A[i]\n",
        "\n",
        "print(output)"
      ],
      "execution_count": 12,
      "outputs": [
        {
          "output_type": "stream",
          "text": [
            "5 3\n",
            "1 2 5 4 3\n",
            "5 5 6 6 5\n",
            "[1, 2, 3, 4, 5]\n",
            "[6, 6, 5, 5, 5]\n",
            "26\n"
          ],
          "name": "stdout"
        }
      ]
    },
    {
      "cell_type": "code",
      "metadata": {
        "id": "fzdlfwjluTEO"
      },
      "source": [
        ""
      ],
      "execution_count": null,
      "outputs": []
    }
  ]
}